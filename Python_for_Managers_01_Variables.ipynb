{
  "nbformat": 4,
  "nbformat_minor": 0,
  "metadata": {
    "colab": {
      "provenance": [],
      "include_colab_link": true
    },
    "kernelspec": {
      "name": "python3",
      "display_name": "Python 3"
    },
    "language_info": {
      "name": "python"
    }
  },
  "cells": [
    {
      "cell_type": "markdown",
      "metadata": {
        "id": "view-in-github",
        "colab_type": "text"
      },
      "source": [
        "<a href=\"https://colab.research.google.com/github/codebizpro/python_for_managers/blob/main/Python_for_Managers_01_Variables.ipynb\" target=\"_parent\"><img src=\"https://colab.research.google.com/assets/colab-badge.svg\" alt=\"Open In Colab\"/></a>"
      ]
    },
    {
      "cell_type": "code",
      "source": [
        "# @title\n",
        "from IPython.display import IFrame\n",
        "\n",
        "video_id = 'VD9okMq37d4'\n",
        "iframe = IFrame(src=f\"https://www.youtube.com/embed/{video_id}\", width=1280, height=720)\n",
        "display(iframe)\n"
      ],
      "metadata": {
        "colab": {
          "base_uri": "https://localhost:8080/",
          "height": 741
        },
        "id": "VjkHAOZBFwrB",
        "outputId": "95b7a103-e756-4a26-b8ea-bbb2e307709f",
        "cellView": "form"
      },
      "execution_count": null,
      "outputs": [
        {
          "output_type": "display_data",
          "data": {
            "text/plain": [
              "<IPython.lib.display.IFrame at 0x7afccda8cfa0>"
            ],
            "text/html": [
              "\n",
              "        <iframe\n",
              "            width=\"1280\"\n",
              "            height=\"720\"\n",
              "            src=\"https://www.youtube.com/embed/VD9okMq37d4\"\n",
              "            frameborder=\"0\"\n",
              "            allowfullscreen\n",
              "            \n",
              "        ></iframe>\n",
              "        "
            ]
          },
          "metadata": {}
        }
      ]
    },
    {
      "cell_type": "markdown",
      "source": [
        "# Introduction to Python for Managers\n",
        "\n",
        "In this session, we'll cover:\n",
        "- Basic concepts of Python\n",
        "- User Inputs and System Outputs\n",
        "- Variables and their types\n",
        "- Basic operations\n",
        "\n",
        "First, let's get familiar with Jupyter Notebooks and IPython.\n",
        "\n",
        "**Jupyter Notebooks:**\n",
        "- Jupyter Notebooks allow us to write and execute Python code in a web-based interactive environment.\n",
        "- Each cell can contain code or text. To execute a cell, press Shift + Enter.\n",
        "- If you do not want to execute a line in code section, start with #.\n",
        "- If you do not want to execute a section consisting of multiple lines, start with ''' and also type at the end of the section '''.\n",
        "\n",
        "**IPython:**\n",
        "- IPython is an interactive Python shell that provides enhancements over the standard Python interpreter.\n",
        "- It offers features like tab completion, object introspection, and system shell access.\n",
        "- You will learn more as you progress through this course. So, don't worry, if you are not aware with terminologies like interpreter or shell. Just move on.\n",
        "\n",
        "Let's start with some basic exercises to get comfortable:"
      ],
      "metadata": {
        "id": "IpVyaAFAkO69"
      }
    },
    {
      "cell_type": "markdown",
      "source": [
        "**User Inputs and System Outputs**\n",
        "\n",
        "- In Python, we often need to interact with users by taking inputs and providing outputs.\n",
        "- Inputs can be provided by users through the keyboard, and outputs are displayed on the screen.\n"
      ],
      "metadata": {
        "id": "vl38A-FAv3Yl"
      }
    },
    {
      "cell_type": "markdown",
      "source": [
        "\n",
        "**User Inputs:**\n",
        "\n",
        "- In Python, we use the `input()` function to take inputs from users.\n"
      ],
      "metadata": {
        "id": "qmgs3cPvfaIf"
      }
    },
    {
      "cell_type": "code",
      "source": [
        "name = input ('What is your name : ')\n"
      ],
      "metadata": {
        "id": "E94rJKEvwypR"
      },
      "execution_count": null,
      "outputs": []
    },
    {
      "cell_type": "code",
      "source": [
        "age = input ('Type your age in years using numbers : ')"
      ],
      "metadata": {
        "id": "bKVoD3rXflbd"
      },
      "execution_count": null,
      "outputs": []
    },
    {
      "cell_type": "markdown",
      "source": [
        "**System Outputs:**\n",
        "\n",
        "- In Python, we use the `print()` function to display outputs on the screen.\n"
      ],
      "metadata": {
        "id": "2kleiThGfIhJ"
      }
    },
    {
      "cell_type": "code",
      "source": [
        "print ('Your name is', name)\n"
      ],
      "metadata": {
        "id": "PEkMcowex_lY"
      },
      "execution_count": null,
      "outputs": []
    },
    {
      "cell_type": "code",
      "source": [
        "print ('Your age is', age, 'years')"
      ],
      "metadata": {
        "id": "QsVSfZbbfwg8"
      },
      "execution_count": null,
      "outputs": []
    },
    {
      "cell_type": "markdown",
      "source": [
        "**Concept Check (User Inputs and System Ouputs)**\n",
        "\n",
        "Q1: What function do we use to display outputs on the screen?\n",
        "- input()\n",
        "- output()\n",
        "- print()\n",
        "\n",
        "Q2: How do we take inputs from users in Python?\n",
        "- using the input() function\n",
        "- using the print() function\n",
        "- using the display() function\n",
        "\n",
        "Q3: What is the output of the following code?\n",
        "\n",
        "x = 5\n",
        "\n",
        "print(\"The value of x is\", x)\n",
        "- The value of x is\n",
        "- The value of x is 5\n",
        "- 5"
      ],
      "metadata": {
        "id": "gn2ehQNKgBOH"
      }
    },
    {
      "cell_type": "markdown",
      "source": [
        "**Exercise (User Inputs and System Outputs)**\n",
        "\n",
        "Print a message asking for the user's home address, and then display it."
      ],
      "metadata": {
        "id": "aUYWTCYFg9je"
      }
    },
    {
      "cell_type": "code",
      "source": [
        "# Write your code under this line\n",
        "address = input ('Please enter your address')\n",
        "\n",
        "print (address)\n",
        "\n"
      ],
      "metadata": {
        "id": "7PZcS5k1hZ7l"
      },
      "execution_count": null,
      "outputs": []
    },
    {
      "cell_type": "markdown",
      "source": [
        "Print a message asking for the user's annual salary, and then display it."
      ],
      "metadata": {
        "id": "sG0IAsZRhf4Z"
      }
    },
    {
      "cell_type": "code",
      "source": [
        "# Write your code under this line\n",
        "salary = input ('What is your salary?')\n",
        "print ('Your salary is ', salary)\n",
        "\n"
      ],
      "metadata": {
        "id": "1RIOQhkIhnuv"
      },
      "execution_count": null,
      "outputs": []
    },
    {
      "cell_type": "markdown",
      "source": [
        "**Variables:**"
      ],
      "metadata": {
        "id": "wdXzHG87klFS"
      }
    },
    {
      "cell_type": "markdown",
      "source": [
        "Now, that you are familiar with basics python interactions, let's build our understanding of variables.\n",
        "\n",
        "In previous cells, you have used words 'name' and 'age'. Please go back and have a look, then try to understand what is the role of these words? Look at the assignment operator '=', in combination with these words."
      ],
      "metadata": {
        "id": "z0btgQscj4P-"
      }
    },
    {
      "cell_type": "markdown",
      "source": [
        "**Concept Check:**\n",
        "\n",
        "- Briefly describe your understanding about 'name' and 'age'."
      ],
      "metadata": {
        "id": "eKhcJtPilgz0"
      }
    },
    {
      "cell_type": "markdown",
      "source": [
        "### In Python, a variable is a name that refers to a value.\n",
        "\n",
        "In previous cells, 'name' referred to the value of your name, and 'age' referred to the value for your age. Now, let's do the same exercise, with some different information."
      ],
      "metadata": {
        "id": "At9gwcq9l54h"
      }
    },
    {
      "cell_type": "code",
      "source": [
        "name = input ('What is name of your friend : ')\n",
        "age = input ('What is age of your friend : ')"
      ],
      "metadata": {
        "id": "1aFnEb7QmQHV"
      },
      "execution_count": null,
      "outputs": []
    },
    {
      "cell_type": "markdown",
      "source": [
        "Now, let' see the system outputs"
      ],
      "metadata": {
        "id": "opiWlFgSmh3j"
      }
    },
    {
      "cell_type": "code",
      "source": [
        "print ('Name of your friend is ', name)\n",
        "print ('Age of your friend is ', age, 'years')"
      ],
      "metadata": {
        "id": "4zaF9As6mkqw"
      },
      "execution_count": null,
      "outputs": []
    },
    {
      "cell_type": "markdown",
      "source": [
        "You can see that now, these variables refer to different values.\n",
        "\n",
        "So, in general:\n",
        "- Variable refers to a value\n",
        "- This value can be changed as needed. This gives enormous power to a program. We shall explore this more in later lessons."
      ],
      "metadata": {
        "id": "QsKckGIOhra4"
      }
    },
    {
      "cell_type": "markdown",
      "source": [
        "**Types of Variables:**\n",
        "\n",
        "\n"
      ],
      "metadata": {
        "id": "6Mvux7cJn7U2"
      }
    },
    {
      "cell_type": "markdown",
      "source": [
        "There are 4 main types of variables.\n",
        "- String\n",
        "- Number\n",
        "- Boolean (True or False)\n",
        "- Collection of Strings and(or) Numbers and(or) Boolean"
      ],
      "metadata": {
        "id": "mELMr7acAtE7"
      }
    },
    {
      "cell_type": "markdown",
      "source": [
        "**1. String**\n",
        "\n",
        "Strings represent text data and are enclosed within single ('') or double (\"\") quotes.\n"
      ],
      "metadata": {
        "id": "cRA-b01H8Vg2"
      }
    },
    {
      "cell_type": "code",
      "source": [
        "first_name = \"Muhammad\"\n",
        "last_name = 'Ali'"
      ],
      "metadata": {
        "id": "z9dD-CI58AZ5"
      },
      "execution_count": null,
      "outputs": []
    },
    {
      "cell_type": "markdown",
      "source": [
        "We can use various operations on Strings."
      ],
      "metadata": {
        "id": "XCz9zusUo-fl"
      }
    },
    {
      "cell_type": "code",
      "source": [
        "full_name = first_name + ' ' + last_name"
      ],
      "metadata": {
        "id": "tpu0VCHYpRKm"
      },
      "execution_count": null,
      "outputs": []
    },
    {
      "cell_type": "code",
      "source": [
        "print ('Name of the greatest of all times boxer is', full_name)"
      ],
      "metadata": {
        "id": "NWh5ffqnpdz3"
      },
      "execution_count": null,
      "outputs": []
    },
    {
      "cell_type": "code",
      "source": [
        "print ('His last name was', last_name)"
      ],
      "metadata": {
        "id": "p7K_4kQIpzDG"
      },
      "execution_count": null,
      "outputs": []
    },
    {
      "cell_type": "code",
      "source": [
        "print ('His first name was', first_name)"
      ],
      "metadata": {
        "id": "BN0tvfRaptzD"
      },
      "execution_count": null,
      "outputs": []
    },
    {
      "cell_type": "markdown",
      "source": [
        "This operation of connecting Strings is called concatenation. Strings can contain alphanumeric characters (A-Z, a-z, 0-9) and special characters ('/*$)."
      ],
      "metadata": {
        "id": "YTvkdmh7qBeq"
      }
    },
    {
      "cell_type": "markdown",
      "source": [
        "**Exercise:**\n",
        "\n",
        "Assign name of your city to variable 'city'.\n",
        "Assign name of your state to variable 'state'."
      ],
      "metadata": {
        "id": "iCO7QawUqbIN"
      }
    },
    {
      "cell_type": "code",
      "source": [
        "city = '##########'\n",
        "state = '##'\n"
      ],
      "metadata": {
        "id": "46VWI1S19Yfd"
      },
      "execution_count": null,
      "outputs": []
    },
    {
      "cell_type": "code",
      "source": [
        "address = city + ', ' + state\n",
        "\n",
        "print ('Your address is ', address)"
      ],
      "metadata": {
        "id": "I8CkMwo4qteY"
      },
      "execution_count": null,
      "outputs": []
    },
    {
      "cell_type": "markdown",
      "source": [
        "**2. Number**\n",
        "\n",
        "- These variables only use numerals (0-9) and decimal point (.)\n",
        "- These variables can be used to perform arithmetic operations, like addition, subtraction, multiplication and division."
      ],
      "metadata": {
        "id": "4kzc3yV58mxX"
      }
    },
    {
      "cell_type": "code",
      "source": [
        "annual_salary = 100000\n",
        "annual_bonus = 45000\n",
        "total_compensation = annual_salary + annual_bonus\n",
        "\n",
        "print ('Your total annual compensation is : ', total_compensation)"
      ],
      "metadata": {
        "id": "5oBRzdU78rsD"
      },
      "execution_count": null,
      "outputs": []
    },
    {
      "cell_type": "code",
      "source": [
        "monthly_salary = annual_salary / 12\n",
        "\n",
        "print ('Your monthly salary is : ', monthly_salary)"
      ],
      "metadata": {
        "id": "AeN0b7ga_Kk7"
      },
      "execution_count": null,
      "outputs": []
    },
    {
      "cell_type": "code",
      "source": [
        "population_va = 8642000\n",
        "population_md = 6165000\n",
        "population_dc = 712816\n",
        "\n",
        "population_dmv = population_va + population_md + population_dc\n",
        "\n",
        "print ('Total population of DMV region is : ', population_dmv)"
      ],
      "metadata": {
        "id": "dDYX52OZ-Rlk"
      },
      "execution_count": null,
      "outputs": []
    },
    {
      "cell_type": "markdown",
      "source": [
        "**Exercise:**"
      ],
      "metadata": {
        "id": "mQrIFMARAzMA"
      }
    },
    {
      "cell_type": "code",
      "source": [
        "# Problem 01a:\n",
        "\n",
        "# We know about population of MD, DC and VA.\n",
        "# These variables have been defined earlier in previous cells of this notebook.\n",
        "# Write a code to check which state has smallest or minimum population?\n",
        "# Hint: Explore function min()\n",
        "\n",
        "# Write your code under this line"
      ],
      "metadata": {
        "id": "QDcklvUg6DU7"
      },
      "execution_count": null,
      "outputs": []
    },
    {
      "cell_type": "code",
      "source": [
        "# Problem 01b:\n",
        "\n",
        "# Write a code to check which state has largest or maximum population?\n",
        "# Hint: Explore function max()\n",
        "\n",
        "# Write your code under this line"
      ],
      "metadata": {
        "id": "l188yusf_i7K"
      },
      "execution_count": null,
      "outputs": []
    },
    {
      "cell_type": "code",
      "source": [
        "# Problem 01c:\n",
        "\n",
        "# Write a code to check what is average population in these states population?\n",
        "# Hint: Explore function average()\n",
        "\n",
        "# Write your code under this line"
      ],
      "metadata": {
        "id": "TbueCVLT_qA1"
      },
      "execution_count": null,
      "outputs": []
    },
    {
      "cell_type": "markdown",
      "source": [
        "**Exercise:**\n",
        "\n",
        "- Ask user to input temperature in Fahrenheit\n",
        "- Convert the temperature value into Centigrade using formula  °C = (°F - 32) × 5/9\n",
        "- Store it into a new variable\n",
        "- Print values for temperature using both Fahrenheit and Centigrade scales"
      ],
      "metadata": {
        "id": "WaiKVY2Jrx5Q"
      }
    },
    {
      "cell_type": "code",
      "source": [
        "# Write your code under this line\n",
        "\n",
        "\n"
      ],
      "metadata": {
        "id": "EI_4TIX5scLW"
      },
      "execution_count": null,
      "outputs": []
    },
    {
      "cell_type": "markdown",
      "source": [
        "**Exercise:**\n",
        "\n",
        "- Create a variable as following:\n",
        "x = 9\n",
        "- Check the output of expression: x + x\n",
        "\n",
        "- Create a variable as following:\n",
        "x = '9'\n",
        "- Check the output of expression: x + x\n",
        "\n",
        "\n",
        "Write down your observations."
      ],
      "metadata": {
        "id": "iWYfLowEtVaM"
      }
    },
    {
      "cell_type": "code",
      "source": [
        "# Write your code under this line\n",
        "\n",
        "x = 9\n",
        "print (x + x)"
      ],
      "metadata": {
        "id": "n1GT1lA5tjLU"
      },
      "execution_count": null,
      "outputs": []
    },
    {
      "cell_type": "code",
      "source": [
        "x = '9'\n",
        "print (x + x)"
      ],
      "metadata": {
        "id": "ZYSKErkQ7mMs"
      },
      "execution_count": null,
      "outputs": []
    },
    {
      "cell_type": "markdown",
      "source": [
        "**Boolean:**\n",
        "\n",
        "Booleans represent either True or False."
      ],
      "metadata": {
        "id": "MH_4yg6b3Up3"
      }
    },
    {
      "cell_type": "code",
      "source": [
        "print (9 > 3)"
      ],
      "metadata": {
        "id": "x2DLWf7h3tCf"
      },
      "execution_count": null,
      "outputs": []
    },
    {
      "cell_type": "code",
      "source": [
        "print (9 < 3)"
      ],
      "metadata": {
        "id": "Dp8t-YB_4mI2"
      },
      "execution_count": null,
      "outputs": []
    },
    {
      "cell_type": "markdown",
      "source": [
        "To differentiate with assignment operator, an equal logical operation, use written using '==' logical equal operator."
      ],
      "metadata": {
        "id": "UjQP4UZNuesW"
      }
    },
    {
      "cell_type": "code",
      "source": [
        "print (10 == 10)"
      ],
      "metadata": {
        "id": "SZa8PuaVuY0T"
      },
      "execution_count": null,
      "outputs": []
    },
    {
      "cell_type": "code",
      "source": [
        "print ('a' in 'Earth')"
      ],
      "metadata": {
        "id": "YZYp_S5V4b_u"
      },
      "execution_count": null,
      "outputs": []
    },
    {
      "cell_type": "code",
      "source": [
        "print ('b' in 'Earth')"
      ],
      "metadata": {
        "id": "RABM-ytJ4fCr"
      },
      "execution_count": null,
      "outputs": []
    },
    {
      "cell_type": "markdown",
      "source": [
        "We can also create variables, which have a Boolean type."
      ],
      "metadata": {
        "id": "-yvY5K3t00s6"
      }
    },
    {
      "cell_type": "code",
      "source": [
        "# Define a variable is_a_in_Earth\n",
        "is_a_in_Earth = 'a' in 'Earth'\n",
        "\n",
        "# Print variable value and type\n",
        "print (is_a_in_Earth, type (is_a_in_Earth))"
      ],
      "metadata": {
        "id": "y2ifRGwN04qj"
      },
      "execution_count": null,
      "outputs": []
    },
    {
      "cell_type": "markdown",
      "source": [
        "We can see that type of such variables is 'bool'."
      ],
      "metadata": {
        "id": "U3BLx7Z21WdW"
      }
    },
    {
      "cell_type": "markdown",
      "source": [
        "**Exercise:**\n",
        "\n",
        "- Create a variable, which will store the result of a logical operation, 9 > 3\n",
        "\n",
        "- Print variable and its type"
      ],
      "metadata": {
        "id": "W3Jgz4wk1cN5"
      }
    },
    {
      "cell_type": "code",
      "source": [
        "# Write your code under this line\n",
        "\n",
        "\n"
      ],
      "metadata": {
        "id": "LoDQymbp1vod"
      },
      "execution_count": null,
      "outputs": []
    },
    {
      "cell_type": "markdown",
      "source": [
        "**4. Collection of Strings and(or) Numbers and(or) Boolean**\n",
        "\n",
        "We can combine and arrange Strings and Numbers through various data packagers, also known as containers.\n",
        "Few examples are:\n",
        "\n",
        "1. List\n",
        "2. Tuple\n",
        "3. Set\n",
        "4. Dictionary\n",
        "\n",
        "We shall discuss these in the future. For now, let's focus only on String and Number."
      ],
      "metadata": {
        "id": "nXTwGHY8_bTF"
      }
    },
    {
      "cell_type": "markdown",
      "source": [
        "**Do's and Dont's (Best Practices)**\n",
        "\n",
        "- Variable Names"
      ],
      "metadata": {
        "id": "oI5Vxrtjs9ah"
      }
    },
    {
      "cell_type": "markdown",
      "source": [
        "What's wrong with this name?\n",
        "\n",
        "https://www.washingtonpost.com/technology/2020/05/08/musk-grimes-baby-name/"
      ],
      "metadata": {
        "id": "lPiKf_bT1Vkz"
      }
    },
    {
      "cell_type": "code",
      "source": [
        "HTML ('<blockquote class=\"twitter-tweet\"><p lang=\"da\" dir=\"ltr\">X Æ A-12 Musk</p>&mdash; Elon Musk (@elonmusk) <a href=\"https://twitter.com/elonmusk/status/1257508900812713984?ref_src=twsrc%5Etfw\">May 5, 2020</a></blockquote> <script async src=\"https://platform.twitter.com/widgets.js\" charset=\"utf-8\"></script>')"
      ],
      "metadata": {
        "id": "H6cvk1qV2RHj"
      },
      "execution_count": null,
      "outputs": []
    },
    {
      "cell_type": "markdown",
      "source": [
        "**Concept Check:**\n",
        "\n",
        "What are you thoughts about following variables?"
      ],
      "metadata": {
        "id": "4y3Qlupe21uY"
      }
    },
    {
      "cell_type": "code",
      "source": [
        "name = input ('What is your name : ')\n"
      ],
      "metadata": {
        "id": "UjkL7X_F280V"
      },
      "execution_count": null,
      "outputs": []
    },
    {
      "cell_type": "code",
      "source": [
        "NAME = input ('What is your name : ')"
      ],
      "metadata": {
        "id": "Gh5oMTOByCri"
      },
      "execution_count": null,
      "outputs": []
    },
    {
      "cell_type": "markdown",
      "source": [
        "Variables are case sensitive. So, 'name' and 'NAME' are not same."
      ],
      "metadata": {
        "id": "ulr3JksHyI_2"
      }
    },
    {
      "cell_type": "code",
      "source": [
        "_name = input ('What is your name : ')"
      ],
      "metadata": {
        "id": "tnLjSDOIxjEj"
      },
      "execution_count": null,
      "outputs": []
    },
    {
      "cell_type": "markdown",
      "source": [
        "Variables can start with underscore character, like '_name'. It is allowed, and useful for advance programming."
      ],
      "metadata": {
        "id": "qVuF8aVeyQ2u"
      }
    },
    {
      "cell_type": "code",
      "source": [
        "name-12 = input ('What is your name : ')"
      ],
      "metadata": {
        "id": "sdKEJNje3ATv"
      },
      "execution_count": null,
      "outputs": []
    },
    {
      "cell_type": "code",
      "source": [
        "12name = input ('What is your name : ')"
      ],
      "metadata": {
        "id": "7trIeePv3G1I"
      },
      "execution_count": null,
      "outputs": []
    },
    {
      "cell_type": "code",
      "source": [
        "your.name = input ('What is your name : ')"
      ],
      "metadata": {
        "id": "2eZIym1A3PvH"
      },
      "execution_count": null,
      "outputs": []
    },
    {
      "cell_type": "code",
      "source": [
        "$name = input ('What is your name : ')"
      ],
      "metadata": {
        "id": "LgStcND43WZl"
      },
      "execution_count": null,
      "outputs": []
    },
    {
      "cell_type": "markdown",
      "source": [
        "These are illegal names, and should not be used.\n",
        "Few illegal examples of names are:\n",
        "\n",
        "- Starting with a number (12name)\n",
        "- Contains special character (your.name, name-12)\n",
        "- Starts with special character ($name), except underscore (_)"
      ],
      "metadata": {
        "id": "01B2JINutaWo"
      }
    },
    {
      "cell_type": "markdown",
      "source": [
        "While some names might be allowed by python, but it is not a good practice to use a variable name, without any meaning or wrong reference."
      ],
      "metadata": {
        "id": "rNS_jIBh4JPr"
      }
    },
    {
      "cell_type": "code",
      "source": [
        "age = input ('What is your name : ')"
      ],
      "metadata": {
        "id": "h-56CB1n3tA8"
      },
      "execution_count": null,
      "outputs": []
    },
    {
      "cell_type": "markdown",
      "source": [
        "Python might allow us to create a variable with reserved words, but these can not be used for useful purposes."
      ],
      "metadata": {
        "id": "WFot3AD64nDn"
      }
    },
    {
      "cell_type": "code",
      "source": [
        "print = input ('What is your name : ')"
      ],
      "metadata": {
        "id": "TYXS3qKN321j"
      },
      "execution_count": null,
      "outputs": []
    },
    {
      "cell_type": "markdown",
      "source": [
        "If you try to use print instruction, interpreter will be confused if you are referring to print variable or print instruction, and will cause an error."
      ],
      "metadata": {
        "id": "HcEmtfVzuC1v"
      }
    },
    {
      "cell_type": "code",
      "source": [
        "print (print)"
      ],
      "metadata": {
        "id": "sltNdeZ4Aa7k"
      },
      "execution_count": null,
      "outputs": []
    },
    {
      "cell_type": "code",
      "source": [
        "family_name = input ('Please enter your family name : ')\n",
        "print (family_name)"
      ],
      "metadata": {
        "id": "VYnpw77-4vHq"
      },
      "execution_count": null,
      "outputs": []
    },
    {
      "cell_type": "markdown",
      "source": [
        "Let's fix this issue."
      ],
      "metadata": {
        "id": "XaidWlCIARq8"
      }
    },
    {
      "cell_type": "code",
      "source": [
        "del print"
      ],
      "metadata": {
        "id": "83HUCjV3AQsm"
      },
      "execution_count": null,
      "outputs": []
    },
    {
      "cell_type": "markdown",
      "source": [
        "**Exercise:**"
      ],
      "metadata": {
        "id": "BKX-ZYxkuT_i"
      }
    },
    {
      "cell_type": "markdown",
      "source": [
        "a: Assign suitable variable names for following values.\n",
        "\n",
        "\n",
        "\n",
        "1.   Population of the world\n",
        "2.   Name of current Prime Minister of Ireland\n",
        "3.   Your monthly income"
      ],
      "metadata": {
        "id": "LcFhTsyD6RZ1"
      }
    },
    {
      "cell_type": "markdown",
      "source": [
        "b: List at least 3 variables, which are illegal in python. State the reason, why these are illegal.\n",
        "\n",
        "\n",
        "\n",
        "1.   \n",
        "2.   \n",
        "3.   "
      ],
      "metadata": {
        "id": "nk_JPgMU6k3l"
      }
    },
    {
      "cell_type": "markdown",
      "source": [
        "![Congratulations.jpg](data:image/jpeg;base64,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)\n"
      ],
      "metadata": {
        "id": "H22JoHLDcx8-"
      }
    },
    {
      "cell_type": "markdown",
      "source": [
        "We are ready to do some fun with variables."
      ],
      "metadata": {
        "id": "uWW-wP4cy-GL"
      }
    },
    {
      "cell_type": "markdown",
      "source": [
        "**String Operations:**\n",
        "\n",
        "Strings are made up of characters.\n",
        "\n",
        "We can count number of characters in a string using len() function, which returns the length of a string as count of characters."
      ],
      "metadata": {
        "id": "auHBbHndzIQU"
      }
    },
    {
      "cell_type": "code",
      "source": [
        "state_1 = 'Washington'\n",
        "state_2 = 'Texas'\n",
        "state_3 = 'Maryland'\n",
        "\n",
        "print ('No. of characters in Washington are : ', len(state_1))\n",
        "print ('No. of characters in Texas are : ', len(state_2))\n",
        "print ('No. of characters in Maryland are : ', len(state_3))\n"
      ],
      "metadata": {
        "id": "zBv6V0bjzol4"
      },
      "execution_count": null,
      "outputs": []
    },
    {
      "cell_type": "markdown",
      "source": [
        "We can also check print all characters in a String."
      ],
      "metadata": {
        "id": "Hi7SBqJT0TsK"
      }
    },
    {
      "cell_type": "code",
      "source": [
        "for character in state_3:\n",
        "  print (character)"
      ],
      "metadata": {
        "id": "wbZM1uS60dOr"
      },
      "execution_count": null,
      "outputs": []
    },
    {
      "cell_type": "markdown",
      "source": [
        "If we are not sure about type of the variable, we can use type() function to check this."
      ],
      "metadata": {
        "id": "_mQCzdf20z6C"
      }
    },
    {
      "cell_type": "code",
      "source": [
        "print (type (state_3) )"
      ],
      "metadata": {
        "id": "0CT6fNFR04j0"
      },
      "execution_count": null,
      "outputs": []
    },
    {
      "cell_type": "markdown",
      "source": [
        "We can also see if a character is used in a string, or not."
      ],
      "metadata": {
        "id": "q-GMSsm21HU0"
      }
    },
    {
      "cell_type": "code",
      "source": [
        "print ('r' in 'Maryland')"
      ],
      "metadata": {
        "id": "aU0lSynR1Ki8"
      },
      "execution_count": null,
      "outputs": []
    },
    {
      "cell_type": "code",
      "source": [
        "print ('o' in 'Maryland')"
      ],
      "metadata": {
        "id": "kD001Avf1OgO"
      },
      "execution_count": null,
      "outputs": []
    },
    {
      "cell_type": "markdown",
      "source": [
        "**Number**\n",
        "\n",
        "Numbers are interesting, because they can have various types.\n",
        "\n",
        "Consider, if you want to pay someone, you will pay in dollars and cents. This value should have at least 2 decimal points ($89.56)."
      ],
      "metadata": {
        "id": "sg1tmxl710nQ"
      }
    },
    {
      "cell_type": "code",
      "source": [
        "print (type(89.56))"
      ],
      "metadata": {
        "id": "FwAh2vTX2GNE"
      },
      "execution_count": null,
      "outputs": []
    },
    {
      "cell_type": "markdown",
      "source": [
        "Such variables are called 'float'."
      ],
      "metadata": {
        "id": "iCvh5Njl21gy"
      }
    },
    {
      "cell_type": "markdown",
      "source": [
        "Now, consider if you are counting number of cars in your street. This value should be a number, without any decimal points."
      ],
      "metadata": {
        "id": "d_l4QrN42NJF"
      }
    },
    {
      "cell_type": "code",
      "source": [
        "car_count = 12\n",
        "print (type(car_count))"
      ],
      "metadata": {
        "id": "GcqOQCHb2YGC"
      },
      "execution_count": null,
      "outputs": []
    },
    {
      "cell_type": "markdown",
      "source": [
        "Such variables are called 'integer'."
      ],
      "metadata": {
        "id": "mzHCwKqp26U2"
      }
    },
    {
      "cell_type": "markdown",
      "source": [
        "We can convert between different types of number formats"
      ],
      "metadata": {
        "id": "8JF5PKiS5Lyf"
      }
    },
    {
      "cell_type": "code",
      "source": [
        "salary = 140000\n",
        "print (salary, 'as', type(salary) )"
      ],
      "metadata": {
        "id": "Sp9hRFP95RdT"
      },
      "execution_count": null,
      "outputs": []
    },
    {
      "cell_type": "code",
      "source": [
        "#Convert from integer to float\n",
        "\n",
        "new_salary = float(salary)\n",
        "print (new_salary, 'as', type(new_salary))"
      ],
      "metadata": {
        "id": "7PleeUjB5bsa"
      },
      "execution_count": null,
      "outputs": []
    },
    {
      "cell_type": "code",
      "source": [
        "value = 34.67\n",
        "new_value = int(value)\n",
        "\n",
        "print (new_value, 'as',  type(new_value))"
      ],
      "metadata": {
        "id": "8ZVY3ZYl5mO3"
      },
      "execution_count": null,
      "outputs": []
    },
    {
      "cell_type": "markdown",
      "source": [
        "Note, that only decimal part is truncated, and pay_value_new is not a rounded value for pay_value.\n",
        "\n",
        "To round off, we can use another useful function round()."
      ],
      "metadata": {
        "id": "ecdwN0cS52k5"
      }
    },
    {
      "cell_type": "code",
      "source": [
        "pay_value = 34.67\n",
        "pay_value_round = round (pay_value)\n",
        "\n",
        "print (pay_value_round, 'as', type(pay_value_round))"
      ],
      "metadata": {
        "id": "BvKSCP2f6EKA"
      },
      "execution_count": null,
      "outputs": []
    },
    {
      "cell_type": "code",
      "source": [
        "import time\n",
        "\n",
        "'''\n",
        "Restrictions of Variable Naming\n",
        "legal_variable = 10\n",
        "2nd_variable = 20  # Invalid: Variable names cannot start with a digit\n",
        "my-variable = 30   # Invalid: Variable names cannot contain hyphens\n",
        "my_variable@ = 40  # Invalid: Variable names cannot contain special characters except underscore\n",
        "'''\n",
        "\n",
        "\n",
        "# Print Statements\n",
        "print(\"Welcome to Python Programming!\")\n",
        "print(\"This assignment will cover various concepts.\")\n",
        "print(\"You are looking at output of a print statement\")\n",
        "print (\"*************************************************\")\n",
        "time.sleep(5)\n",
        "\n",
        "# Input Statement\n",
        "print (\"Now, let us understand how to input use input statement\")\n",
        "name = input(\"Please enter your name: \")\n",
        "print (\"Thanks\", name, \"for sharing this information\")\n",
        "print (\"Now, you can see how we used input to store your name in a variable, and printed it\")\n",
        "print (\"*************************************************\")\n",
        "time.sleep (5)\n",
        "\n",
        "\n",
        "# String Variable Assignment\n",
        "print (\"Now, let's talk about String variables.\")\n",
        "favorite_color = input (\"What is your favorite color: \")\n",
        "print(\"Your favorite color is \" + favorite_color + \".\")\n",
        "print (\"Your input of favorite color was stored into a variable, and printed afterwards.\")\n",
        "print (\"Let us see the type of variable, which stored your favorite color.\")\n",
        "print (\"The type of variable is \", type(favorite_color ))\n",
        "print (\"*************************************************\")\n",
        "\n",
        "time.sleep (5)\n",
        "\n",
        "# Integer Variable Assignment\n",
        "print (\"Great Job! Let us now use some numbers and store in variables\")\n",
        "age = input (\"What is your age\")\n",
        "print(\"You are \" + str(age) + \" years old.\")\n",
        "print (\"*************************************************\")\n",
        "time.sleep (5)\n",
        "\n",
        "# Boolean Variable Assignment\n",
        "print (\"Now, let us understand how we can represent Boolean information\")\n",
        "gender = input (\"What is your gender? Type 'F' for female and 'M' for male\")\n",
        "print (\"You are a male:\", gender.upper()=='M')\n",
        "print (\"You are a female:\", gender.upper() == 'F')\n",
        "print (\"*************************************************\")\n",
        "time.sleep (5)\n",
        "\n",
        "\n",
        "# Comparator Operations\n",
        "num1 = 10\n",
        "num2 = 20\n",
        "print (\"num1 =\", num1)\n",
        "print (\"num2 =\", num2)\n",
        "print(\"Is num1 greater than num2?\", num1 > num2)\n",
        "print(\"Is num1 equal to num2?\", num1 == num2)\n",
        "print (\"*************************************************\")\n",
        "time.sleep (5)\n",
        "\n",
        "# Conversion from int to float and vice versa\n",
        "print (\"We can also convert numbers between differnt formats\")\n",
        "print (\"num1 integer value is:\", num1)\n",
        "float_num = float(num1)\n",
        "print(\"Float representation of num1 is:\", float_num)\n",
        "print (\"*************************************************\")\n",
        "time.sleep (5)\n",
        "\n",
        "int_num = int(float_num)\n",
        "print(\"Integer representation of float_num:\", int_num)\n",
        "print (\"*************************************************\")\n",
        "time.sleep (5)\n",
        "\n",
        "# Checking Variable Type\n",
        "\n",
        "print (\"Let us check the types of variables used in this example:\")\n",
        "print(\"Type of num1:\", type(num1))\n",
        "print(\"Type of favorite_color:\", type(favorite_color))\n",
        "print(\"Type of is_student:\", type(gender))\n",
        "print (\"*************************************************\")\n"
      ],
      "metadata": {
        "id": "hs5Vt01W14f1"
      },
      "execution_count": null,
      "outputs": []
    },
    {
      "cell_type": "markdown",
      "source": [
        "**Quiz:**\n",
        "\n",
        "We shall use GPTs to run the quiz. Use following prompt in any GPT of your choice (for example, ChatGPT, Claude, Gemini, etc.) and see how fun it is to test your concepts. You can further use GPT to clarify any concepts, you want to clarify more.\n",
        "\n",
        "Here is the prompt:\n",
        "\n",
        "==> ***You are a python instructor. Ask 10 question from user about statements of print(), input(), string variable assignment, int variable assignment, Boolean variable assignment, comparator operations, conversion from int to float and vice versa, checking variable type using type() and restrictions of variable naming in python. Ask one multiple choice question at a time. After user returns the answer, ask next question. Do not write a python program for this. Run the quiz in chat. After the quiz is finished, provide a score and summary of the quiz.***"
      ],
      "metadata": {
        "id": "o02x8pu3yDgM"
      }
    },
    {
      "cell_type": "markdown",
      "source": [
        "#########################################################################"
      ],
      "metadata": {
        "id": "DSwG3sTa3L89"
      }
    },
    {
      "cell_type": "markdown",
      "source": [
        "**Debugging and Troubleshooting:**"
      ],
      "metadata": {
        "id": "j2b85z3v5BR7"
      }
    },
    {
      "cell_type": "markdown",
      "source": [
        "The above contents are some of the key knowledge areas to start your python journey. Now, let's try to do some debugging and troubleshooting."
      ],
      "metadata": {
        "id": "WoSk6E8b3RQF"
      }
    },
    {
      "cell_type": "code",
      "source": [
        "# Problem 01\n",
        "\n",
        "monument_name = 'Qutab Minar'\n",
        "monument_location = 'Dehli, India'\n",
        "monument_height = 238\n",
        "height_units = 'ft'\n",
        "\n",
        "monument_information = monument_name + \"is located in\" + monument_location + \"and has a height of\" + monument_height + height_units\n",
        "\n",
        "print (monument_information)"
      ],
      "metadata": {
        "id": "3v07EdAI3Lck"
      },
      "execution_count": null,
      "outputs": []
    },
    {
      "cell_type": "code",
      "source": [
        "# What is wrong with above code? Can you fix this?\n",
        "# Hint: We can convert numbers into strings and vice versa.\n",
        "\n",
        "# How would you fix this issue. Write your code under this line.\n",
        "\n",
        "\n",
        "\n"
      ],
      "metadata": {
        "id": "gAy_exCp5LFB"
      },
      "execution_count": null,
      "outputs": []
    },
    {
      "cell_type": "markdown",
      "source": [
        "What's next:\n",
        "\n",
        "Now, that we have developed a basic understanding of notebooks and python, we can check other tutorials.\n",
        "\n",
        "1. https://colab.research.google.com/github/cs231n/cs231n.github.io/blob/master/python-colab.ipynb\n",
        "\n",
        "2. https://colab.research.google.com/drive/1gCqFEquqNvEoTDX3SNhR2PZkXWPHKXnc?usp=sharing"
      ],
      "metadata": {
        "id": "HB3aJvg8fQif"
      }
    }
  ]
}